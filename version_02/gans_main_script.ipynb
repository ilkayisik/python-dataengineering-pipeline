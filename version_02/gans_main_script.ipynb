{
 "cells": [
  {
   "cell_type": "markdown",
   "metadata": {},
   "source": [
    "# Create an automated datapipeline in the cloud using Python"
   ]
  },
  {
   "cell_type": "code",
   "execution_count": 1,
   "metadata": {},
   "outputs": [],
   "source": [
    "from bs4 import BeautifulSoup\n",
    "import requests\n",
    "import pandas as pd\n",
    "from datetime import datetime, timedelta\n",
    "import sqlalchemy"
   ]
  },
  {
   "cell_type": "code",
   "execution_count": 2,
   "metadata": {},
   "outputs": [],
   "source": [
    "# API KEYS\n",
    "flight_api_key = 'your_flight_api_key'\n",
    "OWM_key = 'your_openweathermap_key'"
   ]
  },
  {
   "cell_type": "markdown",
   "metadata": {},
   "source": [
    "## WEB SCRAPING: Collect demographical data\n",
    "- Grab data from the web about cities: city name, country, latitude, longitude, and population\n",
    "- How: use the list_of_major_european cities from Wikipedia (https://en.wikipedia.org/wiki/List_of_European_cities_by_population_within_city_limits)"
   ]
  },
  {
   "cell_type": "code",
   "execution_count": null,
   "metadata": {},
   "outputs": [],
   "source": [
    "'''\n",
    "# %% 1. WEB SCRAPING: Collect demographical data\n",
    "# Grab data from the web about cities: city name, country, latitude, longitude, and population\n",
    "# How: use the ist_of_major_european cities from wikipedia\n",
    "city_url = 'https://en.wikipedia.org/wiki/List_of_European_cities_by_population_within_city_limits'\n",
    "response = requests.get(city_url)\n",
    "print(response.status_code)\n",
    "soup = BeautifulSoup(response.content, \"html.parser\")\n",
    "# print(soup.prettify)\n",
    "\n",
    "cities, countries, population = [], [], []\n",
    "latitude, longitude = [], []\n",
    "len_table = 297\n",
    "for i in range(len_table):\n",
    "    info_i_need = soup.select(\"table tbody tr td\")[i].getText()\n",
    "    # print(i, i%9, '**',  info_i_need)\n",
    "    if i % 9 == 1:\n",
    "        if \"[\" in info_i_need:\n",
    "            my_ind = info_i_need.index('[')\n",
    "            info_i_need = info_i_need[:my_ind]\n",
    "            # print(info_i_need)\n",
    "        cities.append(info_i_need)\n",
    "    elif i % 9 == 2:\n",
    "        countries.append(info_i_need.replace('\\n',''))\n",
    "    elif i % 9 == 3:\n",
    "        if \"[\" in info_i_need:\n",
    "            my_ind = info_i_need.index('[')\n",
    "            info_i_need = info_i_need[:my_ind]\n",
    "        population.append(info_i_need.replace('\\n',''))\n",
    "    elif i % 9 == 7:\n",
    "        lat = info_i_need.rsplit('/')[-1].rsplit(';')[0].strip()\n",
    "        latitude.append(lat)\n",
    "        long = info_i_need.rsplit('/')[-1].rsplit(';')[-1].rsplit('(')[0].strip()\n",
    "        longitude.append(long)\n",
    "\n",
    "cities_df = pd.DataFrame({\"cities\": cities,\n",
    "                          \"countries\": countries,\n",
    "                          \"longitude\": longitude,\n",
    "                          \"latitude\": latitude,\n",
    "                          \"population\": population})\n",
    "# drop some cities:\n",
    "city_info_df = cities_df.drop_duplicates(subset='countries', keep=\"first\").reset_index(drop=True)\n",
    "city_info_df.to_csv('/Users/ilkayisik/Desktop/WBS_DS/Chapter05/ilkay/city_info.csv', \n",
    "                   index=False)\n",
    "'''\n",
    "\n",
    "city_info_df = pd.read_csv('/Users/ilkayisik/Desktop/WBS_DS/Chapter05/ilkay/city_info.csv')\n",
    "city_info_df.head()"
   ]
  },
  {
   "cell_type": "code",
   "execution_count": null,
   "metadata": {},
   "outputs": [],
   "source": [
    "# another method\n",
    "'''\n",
    "from bs4 import BeautifulSoup\n",
    "import requests\n",
    "city_url='https://en.wikipedia.org/wiki/List_of_European_cities_by_population_within_city_limits'\n",
    "response = requests.get(city_url)\n",
    "soup = BeautifulSoup(response.content, \"html.parser\")\n",
    "\n",
    "parent = soup.find(class_ = 'wikitable sortable')\n",
    "children = parent.contents[1]\n",
    "city_dict = {\"City\": [], \"Country\":[], \"Population\":[]}\n",
    "\n",
    "for child_ind, child in enumerate(children):\n",
    "    if((child_ind != 0) & (child_ind%2 == 0)):\n",
    "        city_dict['City'].append(child.contents[3].get_text(\"|\", strip=True).replace('\\n',''))\n",
    "        city_dict['Population'].append(child.contents[7].get_text(\"|\", strip=True))\n",
    "        city_dict['Country'].append(child.contents[5].get_text(\"|\", strip=True))\n",
    "    if(child_ind == 40):\n",
    "        break \n",
    "cities_df = pd.DataFrame(city_dict)\n",
    "cities_df\n",
    "'''"
   ]
  },
  {
   "cell_type": "markdown",
   "metadata": {},
   "source": [
    "## FLIGHT DATA\n",
    "Every day, the company wants to know which flights will arrive the next day. "
   ]
  },
  {
   "cell_type": "markdown",
   "metadata": {},
   "source": [
    "###  Get the list of airports with ICAO code matching the search term"
   ]
  },
  {
   "cell_type": "code",
   "execution_count": 6,
   "metadata": {},
   "outputs": [
    {
     "data": {
      "text/html": [
       "<div>\n",
       "<style scoped>\n",
       "    .dataframe tbody tr th:only-of-type {\n",
       "        vertical-align: middle;\n",
       "    }\n",
       "\n",
       "    .dataframe tbody tr th {\n",
       "        vertical-align: top;\n",
       "    }\n",
       "\n",
       "    .dataframe thead th {\n",
       "        text-align: right;\n",
       "    }\n",
       "</style>\n",
       "<table border=\"1\" class=\"dataframe\">\n",
       "  <thead>\n",
       "    <tr style=\"text-align: right;\">\n",
       "      <th></th>\n",
       "      <th>icao</th>\n",
       "      <th>iata</th>\n",
       "      <th>name</th>\n",
       "      <th>municipalityName</th>\n",
       "      <th>countryCode</th>\n",
       "    </tr>\n",
       "  </thead>\n",
       "  <tbody>\n",
       "    <tr>\n",
       "      <th>0</th>\n",
       "      <td>LTFM</td>\n",
       "      <td>IST</td>\n",
       "      <td>Istanbul</td>\n",
       "      <td>Istanbul</td>\n",
       "      <td>TR</td>\n",
       "    </tr>\n",
       "    <tr>\n",
       "      <th>1</th>\n",
       "      <td>LTFJ</td>\n",
       "      <td>SAW</td>\n",
       "      <td>Istanbul, Sabiha Gökçen</td>\n",
       "      <td>Istanbul</td>\n",
       "      <td>TR</td>\n",
       "    </tr>\n",
       "    <tr>\n",
       "      <th>2</th>\n",
       "      <td>UUEE</td>\n",
       "      <td>SVO</td>\n",
       "      <td>Moscow, Sheremetyevo</td>\n",
       "      <td>Moscow</td>\n",
       "      <td>RU</td>\n",
       "    </tr>\n",
       "    <tr>\n",
       "      <th>3</th>\n",
       "      <td>UUDD</td>\n",
       "      <td>DME</td>\n",
       "      <td>Moscow, Domodedovo</td>\n",
       "      <td>Moscow</td>\n",
       "      <td>RU</td>\n",
       "    </tr>\n",
       "    <tr>\n",
       "      <th>4</th>\n",
       "      <td>UUBW</td>\n",
       "      <td>ZIA</td>\n",
       "      <td>Moscow, Zhukovsky</td>\n",
       "      <td>Moscow</td>\n",
       "      <td>RU</td>\n",
       "    </tr>\n",
       "  </tbody>\n",
       "</table>\n",
       "</div>"
      ],
      "text/plain": [
       "   icao iata                     name municipalityName countryCode\n",
       "0  LTFM  IST                 Istanbul         Istanbul          TR\n",
       "1  LTFJ  SAW  Istanbul, Sabiha Gökçen         Istanbul          TR\n",
       "2  UUEE  SVO     Moscow, Sheremetyevo           Moscow          RU\n",
       "3  UUDD  DME       Moscow, Domodedovo           Moscow          RU\n",
       "4  UUBW  ZIA        Moscow, Zhukovsky           Moscow          RU"
      ]
     },
     "execution_count": 6,
     "metadata": {},
     "output_type": "execute_result"
    }
   ],
   "source": [
    "'''\n",
    "# To obtain the icao codes we use Search airports by free text\n",
    "url = \"https://aerodatabox.p.rapidapi.com/airports/search/term\"\n",
    "headers = {\n",
    "    \"X-RapidAPI-Key\": flight_api_key,\n",
    "    \"X-RapidAPI-Host\": \"aerodatabox.p.rapidapi.com\"\n",
    "}\n",
    "cities = list(city_info_df[\"cities\"])\n",
    "\n",
    "airport_df_list = []\n",
    "for city_name in cities:\n",
    "    print(city_name)\n",
    "    querystring = {\"q\": city_name, \"limit\": \"10\"}\n",
    "\n",
    "    response = requests.request(\"GET\", url, headers=headers, params=querystring)\n",
    "    result = response.json()\n",
    "    # print(result)\n",
    "    temp_df = pd.json_normalize(response.json()['items']).filter(['icao',\n",
    "                                                                  'iata',\n",
    "                                                                  'name',\n",
    "                                                                  'municipalityName',\n",
    "                                                                  'countryCode'])\n",
    "    airport_df_list.append(temp_df)\n",
    "\n",
    "# concat the dataframes in the list:\n",
    "airports_df = pd.concat(airport_df_list, axis=0, ignore_index=False)\n",
    "\n",
    "europe_country_codes = ['TR', 'RU', 'GB', 'DE', 'ES', 'IT', 'UA', 'RO', 'FR',\n",
    "                        'BY', 'AT', 'PL', 'HU', 'RS', 'BG', 'CZ', 'GE', 'NL']\n",
    "# remove entries if they are not in europe\n",
    "airports_df = airports_df[airports_df['countryCode'].isin(\n",
    "    europe_country_codes)].reset_index(drop=True)\n",
    "# remove entries if the municipality name is not the city\n",
    "airports_df = airports_df[airports_df['municipalityName'].isin(\n",
    "    cities)].reset_index(drop=True)\n",
    "\n",
    "airports_df.to_csv('/Users/ilkayisik/Desktop/WBS_DS/Chapter05/ilkay/airport_names.csv', \n",
    "                   index=False)\n",
    "'''\n",
    "\n",
    "\n",
    "airports_df = pd.read_csv('/Users/ilkayisik/Desktop/WBS_DS/Chapter05/ilkay/airport_names.csv')\n",
    "airports_df.head()\n"
   ]
  },
  {
   "cell_type": "markdown",
   "metadata": {},
   "source": [
    "### Use the icao codes to obtain flight arrival info\n",
    "To automate this we generate tomorrow’s date and transform it into the format that the particular API endpoint requires"
   ]
  },
  {
   "cell_type": "code",
   "execution_count": null,
   "metadata": {},
   "outputs": [],
   "source": [
    "to_local_time = datetime.now().strftime('%Y-%m-%dT%H:00')\n",
    "from_local_time = (datetime.now() + timedelta(hours=9)).strftime('%Y-%m-%dT%H:00')\n",
    "\n",
    "querystring = {\"withLeg\":\"true\",\"withCancelled\":\"true\",\"withCodeshared\":\"true\",\n",
    "               \"withCargo\":\"true\",\"withPrivate\":\"false\",\"withLocation\":\"false\"}\n",
    "\n",
    "headers = {\n",
    "    'x-rapidapi-host': \"aerodatabox.p.rapidapi.com\",\n",
    "    'x-rapidapi-key': flight_api_key\n",
    "    }\n",
    "\n",
    "arrival_df_list = []\n",
    "for icao_code in list(airports_df['icao'])[0:2]:\n",
    "    print(icao_code)\n",
    "\n",
    "    url = f\"https://aerodatabox.p.rapidapi.com/flights/airports/icao/{icao_code}/{to_local_time}/{from_local_time}\"\n",
    "    response = requests.request(\"GET\", url, headers=headers, params=querystring)\n",
    "\n",
    "    try:\n",
    "        arrival_df = pd.json_normalize(response.json()['arrivals'])\n",
    "        print(arrival_df.columns)\n",
    "        filtered_df = arrival_df.filter(['departure.airport.name',\n",
    "                                         'departure.airport.icao',\n",
    "                                         'arrival.scheduledTimeLocal',\n",
    "                                         'status', 'airline.name'])\n",
    "        print(filtered_df.columns)\n",
    "        filtered_df['arr_airport_icao'] = icao_code\n",
    "\n",
    "        filtered_df.rename(columns={'departure.airport.name': 'dep_airport',\n",
    "                                    'arrival.scheduledTimeLocal': 'arr_sched_loc_time',\n",
    "                                    'departure.airport.icao': 'dep_airport_icao',\n",
    "                                    'status': 'status',\n",
    "                                    'airline.name': 'airline',\n",
    "                                    'arr_airport_icao': 'arr_airport_icao'\n",
    "                                    }, inplace=True)\n",
    "\n",
    "    except:\n",
    "        pass\n",
    "    arrival_df_list.append(filtered_df)\n",
    "\n",
    "# concat the dataframes in the list:\n",
    "arrivals_df = pd.concat(arrival_df_list, axis=0, ignore_index=False)"
   ]
  },
  {
   "cell_type": "code",
   "execution_count": null,
   "metadata": {},
   "outputs": [],
   "source": [
    "arrivals_df.head()"
   ]
  },
  {
   "cell_type": "markdown",
   "metadata": {},
   "source": [
    "## Collect weather data"
   ]
  },
  {
   "cell_type": "code",
   "execution_count": null,
   "metadata": {},
   "outputs": [],
   "source": [
    "weather_df_list = []\n",
    "for city in list(airports_df.municipalityName.unique()):\n",
    "    country = list(airports_df[airports_df['municipalityName'] == city]['countryCode'])[0]\n",
    "    # print(city, country)\n",
    "    \n",
    "    response = requests.get(f'http://api.openweathermap.org/data/2.5/forecast/?q={city},{country}&appid={OWM_key}&units=metric&lang=en')\n",
    "    \n",
    "    forecast_api = response.json()['list']\n",
    "    weather_info = []\n",
    "    \n",
    "    for forecast_3h in forecast_api:\n",
    "        weather_hour = {}\n",
    "        # datetime utc\n",
    "        weather_hour['datetime'] = forecast_3h['dt_txt']\n",
    "        # temperature\n",
    "        weather_hour['temperature'] = forecast_3h['main']['temp']\n",
    "        # wind\n",
    "        weather_hour['wind'] = forecast_3h['wind']['speed']\n",
    "        # probability precipitation\n",
    "        try:\n",
    "            weather_hour['prob_perc'] = float(forecast_3h['pop'])\n",
    "        except: weather_hour['prob_perc'] = 0\n",
    "        # rain\n",
    "        try:\n",
    "            weather_hour['rain_qty'] = float(forecast_3h['rain']['3h'])\n",
    "        except: weather_hour['rain_qty'] = 0\n",
    "        # wind\n",
    "        try:\n",
    "            weather_hour['snow'] = float(forecast_3h['snow']['3h'])\n",
    "        except: weather_hour['snow'] = 0\n",
    "        weather_hour['municipality'] = city\n",
    "        weather_hour['country'] = country\n",
    "        weather_hour['municipality_iso_country'] = city + ',' + country\n",
    "        weather_info.append(weather_hour)\n",
    "\n",
    "    weather_data = pd.DataFrame(weather_info)\n",
    "    weather_df_list.append(weather_data)\n",
    "# concat the dataframes in the list:\n",
    "weather_df = pd.concat(weather_df_list, axis=0, ignore_index=False)"
   ]
  },
  {
   "cell_type": "markdown",
   "metadata": {},
   "source": [
    "## Check dataframes"
   ]
  },
  {
   "cell_type": "code",
   "execution_count": null,
   "metadata": {},
   "outputs": [],
   "source": [
    "city_info_df.head()"
   ]
  },
  {
   "cell_type": "code",
   "execution_count": null,
   "metadata": {},
   "outputs": [],
   "source": [
    "airports_df.head()"
   ]
  },
  {
   "cell_type": "code",
   "execution_count": null,
   "metadata": {},
   "outputs": [],
   "source": [
    "arrivals_df.head()"
   ]
  },
  {
   "cell_type": "code",
   "execution_count": null,
   "metadata": {},
   "outputs": [],
   "source": [
    "weather_df.head()"
   ]
  },
  {
   "cell_type": "markdown",
   "metadata": {},
   "source": [
    "## Update data into database"
   ]
  },
  {
   "cell_type": "markdown",
   "metadata": {},
   "source": [
    "### `sqlalchemy`"
   ]
  },
  {
   "cell_type": "markdown",
   "metadata": {},
   "source": [
    "#### Establish the connection:\n",
    "\n",
    "in mysql do:\n",
    "CREATE DATABASE IF NOT EXISTS gans_02;"
   ]
  },
  {
   "cell_type": "code",
   "execution_count": null,
   "metadata": {},
   "outputs": [],
   "source": [
    "schema=\"gans_02\"\n",
    "host=\"127.0.0.1\"\n",
    "user=\"root\"\n",
    "password=\"your_pw\"\n",
    "port=3306\n",
    "con = f'mysql+pymysql://{user}:{password}@{host}:{port}/{schema}'"
   ]
  },
  {
   "cell_type": "code",
   "execution_count": null,
   "metadata": {},
   "outputs": [],
   "source": [
    "# my AWS instance\n",
    "schema=\"gans_02\"\n",
    "host=\"wbs-project3-db.c2btp8jeti51.eu-central-1.rds.amazonaws.com\"\n",
    "user=\"admin\"\n",
    "password=\"your_pw\"\n",
    "port=3306\n",
    "con = f'mysql+pymysql://{user}:{password}@{host}:{port}/{schema}'"
   ]
  },
  {
   "cell_type": "markdown",
   "metadata": {},
   "source": [
    "#### Update the tables"
   ]
  },
  {
   "cell_type": "code",
   "execution_count": null,
   "metadata": {},
   "outputs": [],
   "source": [
    "#### Update the tables\n",
    "(\n",
    "city_info_df\n",
    "    # .dropna()\n",
    "    .to_sql('city_info', con=con, if_exists='append', index=False)\n",
    "    )"
   ]
  },
  {
   "cell_type": "code",
   "execution_count": null,
   "metadata": {},
   "outputs": [],
   "source": [
    "(\n",
    "airports_df\n",
    "    .dropna()\n",
    "    .to_sql('airports', if_exists='append', con=con, index=False)\n",
    ")"
   ]
  },
  {
   "cell_type": "code",
   "execution_count": null,
   "metadata": {},
   "outputs": [],
   "source": [
    "(\n",
    "    arrivals_df\n",
    "    .dropna()\n",
    "    .to_sql('arrivals', con=con, if_exists='append', index=False)\n",
    ")"
   ]
  },
  {
   "cell_type": "code",
   "execution_count": null,
   "metadata": {},
   "outputs": [],
   "source": [
    "(\n",
    "    weather_df\n",
    "    # .dropna()\n",
    "    .to_sql('weather', con=con, if_exists='append', index=False)\n",
    ")"
   ]
  },
  {
   "cell_type": "markdown",
   "metadata": {},
   "source": [
    "## In mysql check that the dataframes are correctly created:\n",
    "USE gans_02;\n",
    "\n",
    "SELECT * FROM airports;\n",
    "\n",
    "SELECT * FROM city_info;\n",
    "\n",
    "SELECT * FROM arrivals;\n",
    "\n",
    "SELECT * FROM weather;"
   ]
  },
  {
   "cell_type": "markdown",
   "metadata": {},
   "source": [
    "### How to retrive data from my mysql instance:\n",
    "So far we created our database by trnasferring dataframes that we created in Python to mySQL (using df.to_sql)\n",
    "\n",
    "We might want to do the opposite, namely transferring data from MySQL to python.\n",
    "\n",
    "To do that we need to make sure that a connection is established between our sql instance and python and then use  _pd.read_sql_"
   ]
  },
  {
   "cell_type": "code",
   "execution_count": null,
   "metadata": {},
   "outputs": [],
   "source": [
    "\n",
    "schema=\"gans_02\"\n",
    "host=\"127.0.0.1\"\n",
    "user=\"root\"\n",
    "password=\"your_pw\"\n",
    "port=3306\n",
    "con = f'mysql+pymysql://{user}:{password}@{host}:{port}/{schema}'\n",
    "\n",
    "pd.read_sql('SELECT icao FROM airports', con)[0:2]['icao'].to_list()\n",
    " "
   ]
  },
  {
   "cell_type": "code",
   "execution_count": null,
   "metadata": {},
   "outputs": [],
   "source": [
    "weather_city_list = pd.read_sql('SELECT municipalityName FROM airports', con)['municipalityName'].to_list()[0:1]\n",
    "for ind, city in enumerate(weather_city_list):\n",
    "    country = pd.read_sql('SELECT * FROM airports', con)['countryCode'].iloc[ind]\n",
    "    print(city, country)\n"
   ]
  },
  {
   "cell_type": "markdown",
   "metadata": {},
   "source": []
  }
 ],
 "metadata": {
  "kernelspec": {
   "display_name": "Python 3.9.13 ('WBS')",
   "language": "python",
   "name": "python3"
  },
  "language_info": {
   "codemirror_mode": {
    "name": "ipython",
    "version": 3
   },
   "file_extension": ".py",
   "mimetype": "text/x-python",
   "name": "python",
   "nbconvert_exporter": "python",
   "pygments_lexer": "ipython3",
   "version": "3.9.13"
  },
  "orig_nbformat": 4,
  "vscode": {
   "interpreter": {
    "hash": "fcc9d8ba76f1a84e8c881b612cc0c7cddd952f7c20275e7661e3d93778145587"
   }
  }
 },
 "nbformat": 4,
 "nbformat_minor": 2
}
